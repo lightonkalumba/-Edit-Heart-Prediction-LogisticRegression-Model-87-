{
 "cells": [
  {
   "cell_type": "markdown",
   "id": "6ecaac49",
   "metadata": {
    "_cell_guid": "b1076dfc-b9ad-4769-8c92-a6c4dae69d19",
    "_uuid": "8f2839f25d086af736a60e9eeb907d3b93b6e0e5",
    "papermill": {
     "duration": 0.005266,
     "end_time": "2023-07-25T12:47:04.126567",
     "exception": false,
     "start_time": "2023-07-25T12:47:04.121301",
     "status": "completed"
    },
    "tags": []
   },
   "source": [
    "### 1. Import Basic Libraries"
   ]
  },
  {
   "cell_type": "code",
   "execution_count": 1,
   "id": "3d6290c4",
   "metadata": {
    "execution": {
     "iopub.execute_input": "2023-07-25T12:47:04.137385Z",
     "iopub.status.busy": "2023-07-25T12:47:04.137015Z",
     "iopub.status.idle": "2023-07-25T12:47:04.145981Z",
     "shell.execute_reply": "2023-07-25T12:47:04.144938Z"
    },
    "papermill": {
     "duration": 0.017431,
     "end_time": "2023-07-25T12:47:04.148614",
     "exception": false,
     "start_time": "2023-07-25T12:47:04.131183",
     "status": "completed"
    },
    "tags": []
   },
   "outputs": [],
   "source": [
    "import pandas as pd\n",
    "import matplotlib.pyplot as plt"
   ]
  },
  {
   "cell_type": "markdown",
   "id": "4151788a",
   "metadata": {
    "papermill": {
     "duration": 0.00426,
     "end_time": "2023-07-25T12:47:04.157679",
     "exception": false,
     "start_time": "2023-07-25T12:47:04.153419",
     "status": "completed"
    },
    "tags": []
   },
   "source": [
    "### 2. Load Data"
   ]
  },
  {
   "cell_type": "code",
   "execution_count": 2,
   "id": "76ecc247",
   "metadata": {
    "execution": {
     "iopub.execute_input": "2023-07-25T12:47:04.168614Z",
     "iopub.status.busy": "2023-07-25T12:47:04.168157Z",
     "iopub.status.idle": "2023-07-25T12:47:04.220113Z",
     "shell.execute_reply": "2023-07-25T12:47:04.219380Z"
    },
    "papermill": {
     "duration": 0.059813,
     "end_time": "2023-07-25T12:47:04.221978",
     "exception": false,
     "start_time": "2023-07-25T12:47:04.162165",
     "status": "completed"
    },
    "tags": []
   },
   "outputs": [
    {
     "data": {
      "text/html": [
       "<div>\n",
       "<style scoped>\n",
       "    .dataframe tbody tr th:only-of-type {\n",
       "        vertical-align: middle;\n",
       "    }\n",
       "\n",
       "    .dataframe tbody tr th {\n",
       "        vertical-align: top;\n",
       "    }\n",
       "\n",
       "    .dataframe thead th {\n",
       "        text-align: right;\n",
       "    }\n",
       "</style>\n",
       "<table border=\"1\" class=\"dataframe\">\n",
       "  <thead>\n",
       "    <tr style=\"text-align: right;\">\n",
       "      <th></th>\n",
       "      <th>age</th>\n",
       "      <th>anaemia</th>\n",
       "      <th>creatinine_phosphokinase</th>\n",
       "      <th>diabetes</th>\n",
       "      <th>ejection_fraction</th>\n",
       "      <th>high_blood_pressure</th>\n",
       "      <th>platelets</th>\n",
       "      <th>serum_creatinine</th>\n",
       "      <th>serum_sodium</th>\n",
       "      <th>sex</th>\n",
       "      <th>smoking</th>\n",
       "      <th>time</th>\n",
       "      <th>DEATH_EVENT</th>\n",
       "    </tr>\n",
       "  </thead>\n",
       "  <tbody>\n",
       "    <tr>\n",
       "      <th>0</th>\n",
       "      <td>75.0</td>\n",
       "      <td>0</td>\n",
       "      <td>582</td>\n",
       "      <td>0</td>\n",
       "      <td>20</td>\n",
       "      <td>1</td>\n",
       "      <td>265000.00</td>\n",
       "      <td>1.9</td>\n",
       "      <td>130</td>\n",
       "      <td>1</td>\n",
       "      <td>0</td>\n",
       "      <td>4</td>\n",
       "      <td>1</td>\n",
       "    </tr>\n",
       "    <tr>\n",
       "      <th>1</th>\n",
       "      <td>55.0</td>\n",
       "      <td>0</td>\n",
       "      <td>7861</td>\n",
       "      <td>0</td>\n",
       "      <td>38</td>\n",
       "      <td>0</td>\n",
       "      <td>263358.03</td>\n",
       "      <td>1.1</td>\n",
       "      <td>136</td>\n",
       "      <td>1</td>\n",
       "      <td>0</td>\n",
       "      <td>6</td>\n",
       "      <td>1</td>\n",
       "    </tr>\n",
       "    <tr>\n",
       "      <th>2</th>\n",
       "      <td>65.0</td>\n",
       "      <td>0</td>\n",
       "      <td>146</td>\n",
       "      <td>0</td>\n",
       "      <td>20</td>\n",
       "      <td>0</td>\n",
       "      <td>162000.00</td>\n",
       "      <td>1.3</td>\n",
       "      <td>129</td>\n",
       "      <td>1</td>\n",
       "      <td>1</td>\n",
       "      <td>7</td>\n",
       "      <td>1</td>\n",
       "    </tr>\n",
       "    <tr>\n",
       "      <th>3</th>\n",
       "      <td>50.0</td>\n",
       "      <td>1</td>\n",
       "      <td>111</td>\n",
       "      <td>0</td>\n",
       "      <td>20</td>\n",
       "      <td>0</td>\n",
       "      <td>210000.00</td>\n",
       "      <td>1.9</td>\n",
       "      <td>137</td>\n",
       "      <td>1</td>\n",
       "      <td>0</td>\n",
       "      <td>7</td>\n",
       "      <td>1</td>\n",
       "    </tr>\n",
       "    <tr>\n",
       "      <th>4</th>\n",
       "      <td>65.0</td>\n",
       "      <td>1</td>\n",
       "      <td>160</td>\n",
       "      <td>1</td>\n",
       "      <td>20</td>\n",
       "      <td>0</td>\n",
       "      <td>327000.00</td>\n",
       "      <td>2.7</td>\n",
       "      <td>116</td>\n",
       "      <td>0</td>\n",
       "      <td>0</td>\n",
       "      <td>8</td>\n",
       "      <td>1</td>\n",
       "    </tr>\n",
       "  </tbody>\n",
       "</table>\n",
       "</div>"
      ],
      "text/plain": [
       "    age  anaemia  creatinine_phosphokinase  diabetes  ejection_fraction  \\\n",
       "0  75.0        0                       582         0                 20   \n",
       "1  55.0        0                      7861         0                 38   \n",
       "2  65.0        0                       146         0                 20   \n",
       "3  50.0        1                       111         0                 20   \n",
       "4  65.0        1                       160         1                 20   \n",
       "\n",
       "   high_blood_pressure  platelets  serum_creatinine  serum_sodium  sex  \\\n",
       "0                    1  265000.00               1.9           130    1   \n",
       "1                    0  263358.03               1.1           136    1   \n",
       "2                    0  162000.00               1.3           129    1   \n",
       "3                    0  210000.00               1.9           137    1   \n",
       "4                    0  327000.00               2.7           116    0   \n",
       "\n",
       "   smoking  time  DEATH_EVENT  \n",
       "0        0     4            1  \n",
       "1        0     6            1  \n",
       "2        1     7            1  \n",
       "3        0     7            1  \n",
       "4        0     8            1  "
      ]
     },
     "execution_count": 2,
     "metadata": {},
     "output_type": "execute_result"
    }
   ],
   "source": [
    "#Load Data\n",
    "data = pd.read_csv('/kaggle/input/heart-failure-clinical-data/heart_failure_clinical_records_dataset.csv')\n",
    "data.head()"
   ]
  },
  {
   "cell_type": "markdown",
   "id": "929cfb29",
   "metadata": {
    "papermill": {
     "duration": 0.004472,
     "end_time": "2023-07-25T12:47:04.231978",
     "exception": false,
     "start_time": "2023-07-25T12:47:04.227506",
     "status": "completed"
    },
    "tags": []
   },
   "source": [
    "### 3. Basic Data Exploration"
   ]
  },
  {
   "cell_type": "code",
   "execution_count": 3,
   "id": "ffb323c9",
   "metadata": {
    "execution": {
     "iopub.execute_input": "2023-07-25T12:47:04.243587Z",
     "iopub.status.busy": "2023-07-25T12:47:04.242651Z",
     "iopub.status.idle": "2023-07-25T12:47:04.290173Z",
     "shell.execute_reply": "2023-07-25T12:47:04.289122Z"
    },
    "papermill": {
     "duration": 0.056049,
     "end_time": "2023-07-25T12:47:04.292676",
     "exception": false,
     "start_time": "2023-07-25T12:47:04.236627",
     "status": "completed"
    },
    "tags": []
   },
   "outputs": [
    {
     "data": {
      "text/html": [
       "<div>\n",
       "<style scoped>\n",
       "    .dataframe tbody tr th:only-of-type {\n",
       "        vertical-align: middle;\n",
       "    }\n",
       "\n",
       "    .dataframe tbody tr th {\n",
       "        vertical-align: top;\n",
       "    }\n",
       "\n",
       "    .dataframe thead th {\n",
       "        text-align: right;\n",
       "    }\n",
       "</style>\n",
       "<table border=\"1\" class=\"dataframe\">\n",
       "  <thead>\n",
       "    <tr style=\"text-align: right;\">\n",
       "      <th></th>\n",
       "      <th>age</th>\n",
       "      <th>anaemia</th>\n",
       "      <th>creatinine_phosphokinase</th>\n",
       "      <th>diabetes</th>\n",
       "      <th>ejection_fraction</th>\n",
       "      <th>high_blood_pressure</th>\n",
       "      <th>platelets</th>\n",
       "      <th>serum_creatinine</th>\n",
       "      <th>serum_sodium</th>\n",
       "      <th>sex</th>\n",
       "      <th>smoking</th>\n",
       "      <th>time</th>\n",
       "      <th>DEATH_EVENT</th>\n",
       "    </tr>\n",
       "  </thead>\n",
       "  <tbody>\n",
       "    <tr>\n",
       "      <th>count</th>\n",
       "      <td>299.000000</td>\n",
       "      <td>299.000000</td>\n",
       "      <td>299.000000</td>\n",
       "      <td>299.000000</td>\n",
       "      <td>299.000000</td>\n",
       "      <td>299.000000</td>\n",
       "      <td>299.000000</td>\n",
       "      <td>299.00000</td>\n",
       "      <td>299.000000</td>\n",
       "      <td>299.000000</td>\n",
       "      <td>299.00000</td>\n",
       "      <td>299.000000</td>\n",
       "      <td>299.00000</td>\n",
       "    </tr>\n",
       "    <tr>\n",
       "      <th>mean</th>\n",
       "      <td>60.833893</td>\n",
       "      <td>0.431438</td>\n",
       "      <td>581.839465</td>\n",
       "      <td>0.418060</td>\n",
       "      <td>38.083612</td>\n",
       "      <td>0.351171</td>\n",
       "      <td>263358.029264</td>\n",
       "      <td>1.39388</td>\n",
       "      <td>136.625418</td>\n",
       "      <td>0.648829</td>\n",
       "      <td>0.32107</td>\n",
       "      <td>130.260870</td>\n",
       "      <td>0.32107</td>\n",
       "    </tr>\n",
       "    <tr>\n",
       "      <th>std</th>\n",
       "      <td>11.894809</td>\n",
       "      <td>0.496107</td>\n",
       "      <td>970.287881</td>\n",
       "      <td>0.494067</td>\n",
       "      <td>11.834841</td>\n",
       "      <td>0.478136</td>\n",
       "      <td>97804.236869</td>\n",
       "      <td>1.03451</td>\n",
       "      <td>4.412477</td>\n",
       "      <td>0.478136</td>\n",
       "      <td>0.46767</td>\n",
       "      <td>77.614208</td>\n",
       "      <td>0.46767</td>\n",
       "    </tr>\n",
       "    <tr>\n",
       "      <th>min</th>\n",
       "      <td>40.000000</td>\n",
       "      <td>0.000000</td>\n",
       "      <td>23.000000</td>\n",
       "      <td>0.000000</td>\n",
       "      <td>14.000000</td>\n",
       "      <td>0.000000</td>\n",
       "      <td>25100.000000</td>\n",
       "      <td>0.50000</td>\n",
       "      <td>113.000000</td>\n",
       "      <td>0.000000</td>\n",
       "      <td>0.00000</td>\n",
       "      <td>4.000000</td>\n",
       "      <td>0.00000</td>\n",
       "    </tr>\n",
       "    <tr>\n",
       "      <th>25%</th>\n",
       "      <td>51.000000</td>\n",
       "      <td>0.000000</td>\n",
       "      <td>116.500000</td>\n",
       "      <td>0.000000</td>\n",
       "      <td>30.000000</td>\n",
       "      <td>0.000000</td>\n",
       "      <td>212500.000000</td>\n",
       "      <td>0.90000</td>\n",
       "      <td>134.000000</td>\n",
       "      <td>0.000000</td>\n",
       "      <td>0.00000</td>\n",
       "      <td>73.000000</td>\n",
       "      <td>0.00000</td>\n",
       "    </tr>\n",
       "    <tr>\n",
       "      <th>50%</th>\n",
       "      <td>60.000000</td>\n",
       "      <td>0.000000</td>\n",
       "      <td>250.000000</td>\n",
       "      <td>0.000000</td>\n",
       "      <td>38.000000</td>\n",
       "      <td>0.000000</td>\n",
       "      <td>262000.000000</td>\n",
       "      <td>1.10000</td>\n",
       "      <td>137.000000</td>\n",
       "      <td>1.000000</td>\n",
       "      <td>0.00000</td>\n",
       "      <td>115.000000</td>\n",
       "      <td>0.00000</td>\n",
       "    </tr>\n",
       "    <tr>\n",
       "      <th>75%</th>\n",
       "      <td>70.000000</td>\n",
       "      <td>1.000000</td>\n",
       "      <td>582.000000</td>\n",
       "      <td>1.000000</td>\n",
       "      <td>45.000000</td>\n",
       "      <td>1.000000</td>\n",
       "      <td>303500.000000</td>\n",
       "      <td>1.40000</td>\n",
       "      <td>140.000000</td>\n",
       "      <td>1.000000</td>\n",
       "      <td>1.00000</td>\n",
       "      <td>203.000000</td>\n",
       "      <td>1.00000</td>\n",
       "    </tr>\n",
       "    <tr>\n",
       "      <th>max</th>\n",
       "      <td>95.000000</td>\n",
       "      <td>1.000000</td>\n",
       "      <td>7861.000000</td>\n",
       "      <td>1.000000</td>\n",
       "      <td>80.000000</td>\n",
       "      <td>1.000000</td>\n",
       "      <td>850000.000000</td>\n",
       "      <td>9.40000</td>\n",
       "      <td>148.000000</td>\n",
       "      <td>1.000000</td>\n",
       "      <td>1.00000</td>\n",
       "      <td>285.000000</td>\n",
       "      <td>1.00000</td>\n",
       "    </tr>\n",
       "  </tbody>\n",
       "</table>\n",
       "</div>"
      ],
      "text/plain": [
       "              age     anaemia  creatinine_phosphokinase    diabetes  \\\n",
       "count  299.000000  299.000000                299.000000  299.000000   \n",
       "mean    60.833893    0.431438                581.839465    0.418060   \n",
       "std     11.894809    0.496107                970.287881    0.494067   \n",
       "min     40.000000    0.000000                 23.000000    0.000000   \n",
       "25%     51.000000    0.000000                116.500000    0.000000   \n",
       "50%     60.000000    0.000000                250.000000    0.000000   \n",
       "75%     70.000000    1.000000                582.000000    1.000000   \n",
       "max     95.000000    1.000000               7861.000000    1.000000   \n",
       "\n",
       "       ejection_fraction  high_blood_pressure      platelets  \\\n",
       "count         299.000000           299.000000     299.000000   \n",
       "mean           38.083612             0.351171  263358.029264   \n",
       "std            11.834841             0.478136   97804.236869   \n",
       "min            14.000000             0.000000   25100.000000   \n",
       "25%            30.000000             0.000000  212500.000000   \n",
       "50%            38.000000             0.000000  262000.000000   \n",
       "75%            45.000000             1.000000  303500.000000   \n",
       "max            80.000000             1.000000  850000.000000   \n",
       "\n",
       "       serum_creatinine  serum_sodium         sex    smoking        time  \\\n",
       "count         299.00000    299.000000  299.000000  299.00000  299.000000   \n",
       "mean            1.39388    136.625418    0.648829    0.32107  130.260870   \n",
       "std             1.03451      4.412477    0.478136    0.46767   77.614208   \n",
       "min             0.50000    113.000000    0.000000    0.00000    4.000000   \n",
       "25%             0.90000    134.000000    0.000000    0.00000   73.000000   \n",
       "50%             1.10000    137.000000    1.000000    0.00000  115.000000   \n",
       "75%             1.40000    140.000000    1.000000    1.00000  203.000000   \n",
       "max             9.40000    148.000000    1.000000    1.00000  285.000000   \n",
       "\n",
       "       DEATH_EVENT  \n",
       "count    299.00000  \n",
       "mean       0.32107  \n",
       "std        0.46767  \n",
       "min        0.00000  \n",
       "25%        0.00000  \n",
       "50%        0.00000  \n",
       "75%        1.00000  \n",
       "max        1.00000  "
      ]
     },
     "execution_count": 3,
     "metadata": {},
     "output_type": "execute_result"
    }
   ],
   "source": [
    "data.describe()"
   ]
  },
  {
   "cell_type": "code",
   "execution_count": 4,
   "id": "270c5d6f",
   "metadata": {
    "execution": {
     "iopub.execute_input": "2023-07-25T12:47:04.304193Z",
     "iopub.status.busy": "2023-07-25T12:47:04.303840Z",
     "iopub.status.idle": "2023-07-25T12:47:04.313256Z",
     "shell.execute_reply": "2023-07-25T12:47:04.311877Z"
    },
    "papermill": {
     "duration": 0.01788,
     "end_time": "2023-07-25T12:47:04.315612",
     "exception": false,
     "start_time": "2023-07-25T12:47:04.297732",
     "status": "completed"
    },
    "tags": []
   },
   "outputs": [
    {
     "name": "stdout",
     "output_type": "stream",
     "text": [
      "age                         0.0\n",
      "anaemia                     0.0\n",
      "creatinine_phosphokinase    0.0\n",
      "diabetes                    0.0\n",
      "ejection_fraction           0.0\n",
      "high_blood_pressure         0.0\n",
      "platelets                   0.0\n",
      "serum_creatinine            0.0\n",
      "serum_sodium                0.0\n",
      "sex                         0.0\n",
      "smoking                     0.0\n",
      "time                        0.0\n",
      "DEATH_EVENT                 0.0\n",
      "dtype: float64\n"
     ]
    }
   ],
   "source": [
    "#Percentage of missing values in the dataset\n",
    "missing_percentage = (data.isnull().sum() / len(data)) * 100\n",
    "print(missing_percentage)"
   ]
  },
  {
   "cell_type": "markdown",
   "id": "0b710bfa",
   "metadata": {
    "papermill": {
     "duration": 0.004833,
     "end_time": "2023-07-25T12:47:04.325759",
     "exception": false,
     "start_time": "2023-07-25T12:47:04.320926",
     "status": "completed"
    },
    "tags": []
   },
   "source": [
    "* Good the Dataset does not contain any missing data!"
   ]
  },
  {
   "cell_type": "code",
   "execution_count": 5,
   "id": "7b3500f8",
   "metadata": {
    "execution": {
     "iopub.execute_input": "2023-07-25T12:47:04.339399Z",
     "iopub.status.busy": "2023-07-25T12:47:04.339009Z",
     "iopub.status.idle": "2023-07-25T12:47:04.345959Z",
     "shell.execute_reply": "2023-07-25T12:47:04.345144Z"
    },
    "papermill": {
     "duration": 0.017153,
     "end_time": "2023-07-25T12:47:04.348156",
     "exception": false,
     "start_time": "2023-07-25T12:47:04.331003",
     "status": "completed"
    },
    "tags": []
   },
   "outputs": [
    {
     "data": {
      "text/plain": [
       "Index(['age', 'anaemia', 'creatinine_phosphokinase', 'diabetes',\n",
       "       'ejection_fraction', 'high_blood_pressure', 'platelets',\n",
       "       'serum_creatinine', 'serum_sodium', 'sex', 'smoking', 'time',\n",
       "       'DEATH_EVENT'],\n",
       "      dtype='object')"
      ]
     },
     "execution_count": 5,
     "metadata": {},
     "output_type": "execute_result"
    }
   ],
   "source": [
    "data.columns"
   ]
  },
  {
   "cell_type": "markdown",
   "id": "40c6cbb7",
   "metadata": {
    "papermill": {
     "duration": 0.005068,
     "end_time": "2023-07-25T12:47:04.358647",
     "exception": false,
     "start_time": "2023-07-25T12:47:04.353579",
     "status": "completed"
    },
    "tags": []
   },
   "source": [
    "#### Some Points To Note From the DataSet:"
   ]
  },
  {
   "cell_type": "markdown",
   "id": "ab5f9aa1",
   "metadata": {
    "papermill": {
     "duration": 0.005031,
     "end_time": "2023-07-25T12:47:04.369029",
     "exception": false,
     "start_time": "2023-07-25T12:47:04.363998",
     "status": "completed"
    },
    "tags": []
   },
   "source": [
    "1. **Age**: Advanced age can increase the risk of heart failure due to the natural wear and tear on the heart muscles over time.\n",
    "\n",
    "2. **Anaemia**: Low red blood cell count may lead to reduced oxygen delivery to the heart, potentially causing heart failure.\n",
    "\n",
    "3. **Creatinine Phosphokinase**: Elevated levels may indicate heart muscle damage, which could contribute to heart failure.\n",
    "\n",
    "4. **Diabetes**: Poorly managed diabetes can damage blood vessels and nerves, increasing the likelihood of heart failure.\n",
    "\n",
    "5. **Ejection Fraction**: A low ejection fraction (the amount of blood pumped out of the heart) may signal heart muscle weakness.\n",
    "\n",
    "6. **High Blood Pressure**: Prolonged high blood pressure can strain the heart and increase the risk of heart failure.\n",
    "\n",
    "7. **Platelets**: Abnormal platelet levels may lead to blood clots, which can cause heart problems, including heart failure.\n",
    "\n",
    "8. **Serum Creatinine**: High levels may suggest impaired kidney function, affecting fluid balance and potentially leading to heart failure.\n",
    "\n",
    "9. **Serum Sodium**: Abnormal levels can disrupt fluid balance and influence heart function, contributing to heart failure.\n",
    "\n",
    "10. **Sex**: Gender differences can impact heart disease risk, with males having a higher risk of heart failure.\n",
    "\n",
    "11. **Smoking**: Tobacco use damages blood vessels and increases the risk of heart failure.\n",
    "\n",
    "12. **Time**: The duration of exposure to risk factors and the progression of underlying conditions can influence heart failure risk."
   ]
  },
  {
   "cell_type": "markdown",
   "id": "5a4d1c01",
   "metadata": {
    "papermill": {
     "duration": 0.00486,
     "end_time": "2023-07-25T12:47:04.379219",
     "exception": false,
     "start_time": "2023-07-25T12:47:04.374359",
     "status": "completed"
    },
    "tags": []
   },
   "source": [
    "### 4. Exploratory Data Analysis"
   ]
  },
  {
   "cell_type": "code",
   "execution_count": 6,
   "id": "a5eb8856",
   "metadata": {
    "execution": {
     "iopub.execute_input": "2023-07-25T12:47:04.391684Z",
     "iopub.status.busy": "2023-07-25T12:47:04.391327Z",
     "iopub.status.idle": "2023-07-25T12:47:04.636349Z",
     "shell.execute_reply": "2023-07-25T12:47:04.635215Z"
    },
    "papermill": {
     "duration": 0.255169,
     "end_time": "2023-07-25T12:47:04.639708",
     "exception": false,
     "start_time": "2023-07-25T12:47:04.384539",
     "status": "completed"
    },
    "tags": []
   },
   "outputs": [
    {
     "data": {
      "image/png": "[encoded data removed]",
      "text/plain": [
       "<Figure size 400x400 with 1 Axes>"
      ]
     },
     "metadata": {},
     "output_type": "display_data"
    }
   ],
   "source": [
    "\n",
    "import pandas as pd\n",
    "import matplotlib.pyplot as plt\n",
    "\n",
    "\n",
    "# Group the data by 'sex' and count the occurrences of each category\n",
    "sex_counts = data['sex'].value_counts()\n",
    "\n",
    "# Create a custom color palette for the pie chart slices\n",
    "colors = ['#ff9999', '#66b3ff']\n",
    "\n",
    "# Create the pie chart\n",
    "plt.figure(figsize=(4, 4))\n",
    "plt.pie(sex_counts, labels=sex_counts.index, colors=colors, autopct='%1.1f%%', startangle=90, shadow=True)\n",
    "\n",
    "# Add a central circle to make it look like a donut chart\n",
    "centre_circle = plt.Circle((0, 0), 0.70, fc='white')\n",
    "fig = plt.gcf()\n",
    "fig.gca().add_artist(centre_circle)\n",
    "\n",
    "# Add a title and legend\n",
    "plt.title(\"Distribution of Sex in the Dataset\")\n",
    "plt.legend(labels=sex_counts.index, loc='upper right')\n",
    "\n",
    "# Equal aspect ratio ensures that pie is drawn as a circle.\n",
    "plt.axis('equal')\n",
    "\n",
    "# Show the pie chart\n",
    "plt.tight_layout()\n",
    "plt.show()\n",
    "\n",
    "\n"
   ]
  },
  {
   "cell_type": "code",
   "execution_count": 7,
   "id": "87f5ad2c",
   "metadata": {
    "execution": {
     "iopub.execute_input": "2023-07-25T12:47:04.655923Z",
     "iopub.status.busy": "2023-07-25T12:47:04.655440Z",
     "iopub.status.idle": "2023-07-25T12:47:04.939313Z",
     "shell.execute_reply": "2023-07-25T12:47:04.937660Z"
    },
    "papermill": {
     "duration": 0.294828,
     "end_time": "2023-07-25T12:47:04.941824",
     "exception": false,
     "start_time": "2023-07-25T12:47:04.646996",
     "status": "completed"
    },
    "tags": []
   },
   "outputs": [
    {
     "data": {
      "image/png": "[encoded data removed]",
      "text/plain": [
       "<Figure size 1000x600 with 1 Axes>"
      ]
     },
     "metadata": {},
     "output_type": "display_data"
    }
   ],
   "source": [
    "age_by_death_event = data.groupby('DEATH_EVENT')['age'].mean()\n",
    "\n",
    "\n",
    "colors = ['#FF5A5A', '#70C1B3']\n",
    "\n",
    "\n",
    "plt.figure(figsize=(10, 6))\n",
    "ax = plt.bar(age_by_death_event.index, age_by_death_event, color=colors)\n",
    "\n",
    "\n",
    "for i, bar in enumerate(ax):\n",
    "    height = bar.get_height()\n",
    "    plt.text(bar.get_x() + bar.get_width() / 2, height, f'{age_by_death_event[i]:.2f}', ha='center', va='bottom', fontsize=12)\n",
    "\n",
    "\n",
    "plt.title('Average Age by DEATH_EVENT', fontsize=18, fontweight='bold')\n",
    "plt.xlabel('DEATH_EVENT', fontsize=14)\n",
    "plt.ylabel('Average Age', fontsize=14)\n",
    "\n",
    "\n",
    "plt.xticks(fontsize=12)\n",
    "plt.yticks(fontsize=12)\n",
    "plt.grid(axis='y', linestyle='--', alpha=0.7)\n",
    "\n",
    "\n",
    "plt.gca().set_facecolor('#F8F8F8')\n",
    "\n",
    "\n",
    "plt.gca().spines['right'].set_visible(False)\n",
    "plt.gca().spines['top'].set_visible(False)\n",
    "plt.gca().spines['left'].set_linewidth(0.5)\n",
    "plt.gca().spines['bottom'].set_linewidth(0.5)\n",
    "plt.tight_layout()\n",
    "\n",
    "\n",
    "plt.show()\n"
   ]
  },
  {
   "cell_type": "code",
   "execution_count": 8,
   "id": "14126274",
   "metadata": {
    "execution": {
     "iopub.execute_input": "2023-07-25T12:47:04.955675Z",
     "iopub.status.busy": "2023-07-25T12:47:04.955260Z",
     "iopub.status.idle": "2023-07-25T12:47:05.205553Z",
     "shell.execute_reply": "2023-07-25T12:47:05.204797Z"
    },
    "papermill": {
     "duration": 0.26011,
     "end_time": "2023-07-25T12:47:05.207993",
     "exception": false,
     "start_time": "2023-07-25T12:47:04.947883",
     "status": "completed"
    },
    "tags": []
   },
   "outputs": [
    {
     "data": {
      "image/png": "[encoded data removed]",
      "text/plain": [
       "<Figure size 1000x600 with 1 Axes>"
      ]
     },
     "metadata": {},
     "output_type": "display_data"
    }
   ],
   "source": [
    "age_data = data['age']\n",
    "\n",
    "\n",
    "plt.figure(figsize=(10, 6))\n",
    "\n",
    "\n",
    "bins = [30, 40, 50, 60, 70, 80, 90]\n",
    "\n",
    "\n",
    "plt.hist(age_data, bins=bins, edgecolor='black', color='#70C1B3', alpha=0.7)\n",
    "\n",
    "plt.title('Age Distribution', fontsize=18, fontweight='bold')\n",
    "plt.xlabel('Age', fontsize=14)\n",
    "plt.ylabel('Frequency', fontsize=14)\n",
    "\n",
    "\n",
    "plt.xticks(fontsize=12)\n",
    "plt.yticks(fontsize=12)\n",
    "plt.grid(axis='y', linestyle='--', alpha=0.7)\n",
    "\n",
    "\n",
    "plt.gca().set_facecolor('#F8F8F8')\n",
    "\n",
    "\n",
    "# Remove unnecessary spines and set the layout\n",
    "plt.gca().spines['right'].set_visible(False)\n",
    "plt.gca().spines['top'].set_visible(False)\n",
    "plt.gca().spines['left'].set_linewidth(0.5)\n",
    "plt.gca().spines['bottom'].set_linewidth(0.5)\n",
    "plt.tight_layout()\n",
    "\n",
    "\n",
    "plt.show()\n"
   ]
  },
  {
   "cell_type": "markdown",
   "id": "6314c5fa",
   "metadata": {
    "papermill": {
     "duration": 0.006884,
     "end_time": "2023-07-25T12:47:05.221807",
     "exception": false,
     "start_time": "2023-07-25T12:47:05.214923",
     "status": "completed"
    },
    "tags": []
   },
   "source": [
    "### 5. Data Processing"
   ]
  },
  {
   "cell_type": "code",
   "execution_count": 9,
   "id": "632f6325",
   "metadata": {
    "execution": {
     "iopub.execute_input": "2023-07-25T12:47:05.236753Z",
     "iopub.status.busy": "2023-07-25T12:47:05.236181Z",
     "iopub.status.idle": "2023-07-25T12:47:06.948453Z",
     "shell.execute_reply": "2023-07-25T12:47:06.946867Z"
    },
    "papermill": {
     "duration": 1.723168,
     "end_time": "2023-07-25T12:47:06.951550",
     "exception": false,
     "start_time": "2023-07-25T12:47:05.228382",
     "status": "completed"
    },
    "tags": []
   },
   "outputs": [
    {
     "name": "stderr",
     "output_type": "stream",
     "text": [
      "/opt/conda/lib/python3.10/site-packages/scipy/__init__.py:146: UserWarning: A NumPy version >=1.16.5 and <1.23.0 is required for this version of SciPy (detected version 1.23.5\n",
      "  warnings.warn(f\"A NumPy version >={np_minversion} and <{np_maxversion}\"\n"
     ]
    },
    {
     "name": "stdout",
     "output_type": "stream",
     "text": [
      "Selected Features:\n",
      "Index(['age', 'creatinine_phosphokinase', 'ejection_fraction', 'platelets',\n",
      "       'time'],\n",
      "      dtype='object')\n"
     ]
    }
   ],
   "source": [
    "from sklearn.feature_selection import SelectKBest, chi2\n",
    "\n",
    "\n",
    "\n",
    "# Split the data into features (X) and target variable (y)\n",
    "X = data.drop('DEATH_EVENT', axis=1)\n",
    "y = data['DEATH_EVENT']\n",
    "\n",
    "# Create a SelectKBest object with chi2 scoring function (k is the number of features to select)\n",
    "k_best = SelectKBest(score_func=chi2, k=5)\n",
    "\n",
    "# Fit the SelectKBest object on the data and transform it to get the selected features\n",
    "X_k_best = k_best.fit_transform(X, y)\n",
    "\n",
    "# Get the indices of the selected features\n",
    "selected_feature_indices = k_best.get_support(indices=True)\n",
    "\n",
    "# Get the names of the selected features\n",
    "selected_features = X.columns[selected_feature_indices]\n",
    "\n",
    "# Print the selected features\n",
    "print(\"Selected Features:\")\n",
    "print(selected_features)\n"
   ]
  },
  {
   "cell_type": "code",
   "execution_count": 10,
   "id": "7eca7573",
   "metadata": {
    "execution": {
     "iopub.execute_input": "2023-07-25T12:47:06.967592Z",
     "iopub.status.busy": "2023-07-25T12:47:06.966107Z",
     "iopub.status.idle": "2023-07-25T12:47:06.975652Z",
     "shell.execute_reply": "2023-07-25T12:47:06.973946Z"
    },
    "papermill": {
     "duration": 0.019797,
     "end_time": "2023-07-25T12:47:06.978138",
     "exception": false,
     "start_time": "2023-07-25T12:47:06.958341",
     "status": "completed"
    },
    "tags": []
   },
   "outputs": [],
   "source": [
    "from sklearn.model_selection import train_test_split\n",
    "X_train, X_test, y_train, y_test = train_test_split(X,y, test_size = 0.1, random_state=1)"
   ]
  },
  {
   "cell_type": "markdown",
   "id": "3d5445ea",
   "metadata": {
    "papermill": {
     "duration": 0.006206,
     "end_time": "2023-07-25T12:47:06.990952",
     "exception": false,
     "start_time": "2023-07-25T12:47:06.984746",
     "status": "completed"
    },
    "tags": []
   },
   "source": [
    "### 6. Modelling"
   ]
  },
  {
   "cell_type": "code",
   "execution_count": 11,
   "id": "35684182",
   "metadata": {
    "execution": {
     "iopub.execute_input": "2023-07-25T12:47:07.006644Z",
     "iopub.status.busy": "2023-07-25T12:47:07.005511Z",
     "iopub.status.idle": "2023-07-25T12:47:07.010085Z",
     "shell.execute_reply": "2023-07-25T12:47:07.009315Z"
    },
    "papermill": {
     "duration": 0.015023,
     "end_time": "2023-07-25T12:47:07.012476",
     "exception": false,
     "start_time": "2023-07-25T12:47:06.997453",
     "status": "completed"
    },
    "tags": []
   },
   "outputs": [],
   "source": [
    "from sklearn.linear_model import LogisticRegression\n",
    "\n",
    "# Create an instance of Support Vector Machine Classifier\n",
    "my_model = LogisticRegression()"
   ]
  },
  {
   "cell_type": "code",
   "execution_count": 12,
   "id": "f5f570ef",
   "metadata": {
    "execution": {
     "iopub.execute_input": "2023-07-25T12:47:07.026589Z",
     "iopub.status.busy": "2023-07-25T12:47:07.026169Z",
     "iopub.status.idle": "2023-07-25T12:47:07.066748Z",
     "shell.execute_reply": "2023-07-25T12:47:07.065652Z"
    },
    "papermill": {
     "duration": 0.051244,
     "end_time": "2023-07-25T12:47:07.070167",
     "exception": false,
     "start_time": "2023-07-25T12:47:07.018923",
     "status": "completed"
    },
    "tags": []
   },
   "outputs": [
    {
     "name": "stderr",
     "output_type": "stream",
     "text": [
      "/opt/conda/lib/python3.10/site-packages/sklearn/linear_model/_logistic.py:458: ConvergenceWarning: lbfgs failed to converge (status=1):\n",
      "STOP: TOTAL NO. of ITERATIONS REACHED LIMIT.\n",
      "\n",
      "Increase the number of iterations (max_iter) or scale the data as shown in:\n",
      "    https://scikit-learn.org/stable/modules/preprocessing.html\n",
      "Please also refer to the documentation for alternative solver options:\n",
      "    https://scikit-learn.org/stable/modules/linear_model.html#logistic-regression\n",
      "  n_iter_i = _check_optimize_result(\n"
     ]
    },
    {
     "data": {
      "text/html": [
       "<style>#sk-container-id-1 {color: black;background-color: white;}#sk-container-id-1 pre{padding: 0;}#sk-container-id-1 div.sk-toggleable {background-color: white;}#sk-container-id-1 label.sk-toggleable__label {cursor: pointer;display: block;width: 100%;margin-bottom: 0;padding: 0.3em;box-sizing: border-box;text-align: center;}#sk-container-id-1 label.sk-toggleable__label-arrow:before {content: \"▸\";float: left;margin-right: 0.25em;color: #696969;}#sk-container-id-1 label.sk-toggleable__label-arrow:hover:before {color: black;}#sk-container-id-1 div.sk-estimator:hover label.sk-toggleable__label-arrow:before {color: black;}#sk-container-id-1 div.sk-toggleable__content {max-height: 0;max-width: 0;overflow: hidden;text-align: left;background-color: #f0f8ff;}#sk-container-id-1 div.sk-toggleable__content pre {margin: 0.2em;color: black;border-radius: 0.25em;background-color: #f0f8ff;}#sk-container-id-1 input.sk-toggleable__control:checked~div.sk-toggleable__content {max-height: 200px;max-width: 100%;overflow: auto;}#sk-container-id-1 input.sk-toggleable__control:checked~label.sk-toggleable__label-arrow:before {content: \"▾\";}#sk-container-id-1 div.sk-estimator input.sk-toggleable__control:checked~label.sk-toggleable__label {background-color: #d4ebff;}#sk-container-id-1 div.sk-label input.sk-toggleable__control:checked~label.sk-toggleable__label {background-color: #d4ebff;}#sk-container-id-1 input.sk-hidden--visually {border: 0;clip: rect(1px 1px 1px 1px);clip: rect(1px, 1px, 1px, 1px);height: 1px;margin: -1px;overflow: hidden;padding: 0;position: absolute;width: 1px;}#sk-container-id-1 div.sk-estimator {font-family: monospace;background-color: #f0f8ff;border: 1px dotted black;border-radius: 0.25em;box-sizing: border-box;margin-bottom: 0.5em;}#sk-container-id-1 div.sk-estimator:hover {background-color: #d4ebff;}#sk-container-id-1 div.sk-parallel-item::after {content: \"\";width: 100%;border-bottom: 1px solid gray;flex-grow: 1;}#sk-container-id-1 div.sk-label:hover label.sk-toggleable__label {background-color: #d4ebff;}#sk-container-id-1 div.sk-serial::before {content: \"\";position: absolute;border-left: 1px solid gray;box-sizing: border-box;top: 0;bottom: 0;left: 50%;z-index: 0;}#sk-container-id-1 div.sk-serial {display: flex;flex-direction: column;align-items: center;background-color: white;padding-right: 0.2em;padding-left: 0.2em;position: relative;}#sk-container-id-1 div.sk-item {position: relative;z-index: 1;}#sk-container-id-1 div.sk-parallel {display: flex;align-items: stretch;justify-content: center;background-color: white;position: relative;}#sk-container-id-1 div.sk-item::before, #sk-container-id-1 div.sk-parallel-item::before {content: \"\";position: absolute;border-left: 1px solid gray;box-sizing: border-box;top: 0;bottom: 0;left: 50%;z-index: -1;}#sk-container-id-1 div.sk-parallel-item {display: flex;flex-direction: column;z-index: 1;position: relative;background-color: white;}#sk-container-id-1 div.sk-parallel-item:first-child::after {align-self: flex-end;width: 50%;}#sk-container-id-1 div.sk-parallel-item:last-child::after {align-self: flex-start;width: 50%;}#sk-container-id-1 div.sk-parallel-item:only-child::after {width: 0;}#sk-container-id-1 div.sk-dashed-wrapped {border: 1px dashed gray;margin: 0 0.4em 0.5em 0.4em;box-sizing: border-box;padding-bottom: 0.4em;background-color: white;}#sk-container-id-1 div.sk-label label {font-family: monospace;font-weight: bold;display: inline-block;line-height: 1.2em;}#sk-container-id-1 div.sk-label-container {text-align: center;}#sk-container-id-1 div.sk-container {/* jupyter's `normalize.less` sets `[hidden] { display: none; }` but bootstrap.min.css set `[hidden] { display: none !important; }` so we also need the `!important` here to be able to override the default hidden behavior on the sphinx rendered scikit-learn.org. See: https://github.com/scikit-learn/scikit-learn/issues/21755 */display: inline-block !important;position: relative;}#sk-container-id-1 div.sk-text-repr-fallback {display: none;}</style><div id=\"sk-container-id-1\" class=\"sk-top-container\"><div class=\"sk-text-repr-fallback\"><pre>LogisticRegression()</pre><b>In a Jupyter environment, please rerun this cell to show the HTML representation or trust the notebook. <br />On GitHub, the HTML representation is unable to render, please try loading this page with nbviewer.org.</b></div><div class=\"sk-container\" hidden><div class=\"sk-item\"><div class=\"sk-estimator sk-toggleable\"><input class=\"sk-toggleable__control sk-hidden--visually\" id=\"sk-estimator-id-1\" type=\"checkbox\" checked><label for=\"sk-estimator-id-1\" class=\"sk-toggleable__label sk-toggleable__label-arrow\">LogisticRegression</label><div class=\"sk-toggleable__content\"><pre>LogisticRegression()</pre></div></div></div></div></div>"
      ],
      "text/plain": [
       "LogisticRegression()"
      ]
     },
     "execution_count": 12,
     "metadata": {},
     "output_type": "execute_result"
    }
   ],
   "source": [
    "my_model.fit(X_train, y_train)"
   ]
  },
  {
   "cell_type": "code",
   "execution_count": 13,
   "id": "13ce9c76",
   "metadata": {
    "execution": {
     "iopub.execute_input": "2023-07-25T12:47:07.085200Z",
     "iopub.status.busy": "2023-07-25T12:47:07.084831Z",
     "iopub.status.idle": "2023-07-25T12:47:07.095065Z",
     "shell.execute_reply": "2023-07-25T12:47:07.093699Z"
    },
    "papermill": {
     "duration": 0.020793,
     "end_time": "2023-07-25T12:47:07.097587",
     "exception": false,
     "start_time": "2023-07-25T12:47:07.076794",
     "status": "completed"
    },
    "tags": []
   },
   "outputs": [
    {
     "data": {
      "text/plain": [
       "0.8666666666666667"
      ]
     },
     "execution_count": 13,
     "metadata": {},
     "output_type": "execute_result"
    }
   ],
   "source": [
    "my_model.score(X_test, y_test)"
   ]
  }
 ],
 "metadata": {
  "kernelspec": {
   "display_name": "Python 3",
   "language": "python",
   "name": "python3"
  },
  "language_info": {
   "codemirror_mode": {
    "name": "ipython",
    "version": 3
   },
   "file_extension": ".py",
   "mimetype": "text/x-python",
   "name": "python",
   "nbconvert_exporter": "python",
   "pygments_lexer": "ipython3",
   "version": "3.10.12"
  },
  "papermill": {
   "default_parameters": {},
   "duration": 13.625019,
   "end_time": "2023-07-25T12:47:08.128909",
   "environment_variables": {},
   "exception": null,
   "input_path": "__notebook__.ipynb",
   "output_path": "__notebook__.ipynb",
   "parameters": {},
   "start_time": "2023-07-25T12:46:54.503890",
   "version": "2.4.0"
  }
 },
 "nbformat": 4,
 "nbformat_minor": 5
}
